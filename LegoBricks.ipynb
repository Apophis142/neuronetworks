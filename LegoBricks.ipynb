{
 "cells": [
  {
   "cell_type": "code",
   "execution_count": 1,
   "id": "86507f56-6aca-423d-a665-5c4e2315bca0",
   "metadata": {
    "tags": []
   },
   "outputs": [],
   "source": [
    "import torch\n",
    "from torch import nn\n",
    "import torch.optim as optim\n",
    "import pickle\n",
    "\n",
    "import matplotlib.pyplot as plt"
   ]
  },
  {
   "cell_type": "code",
   "execution_count": 2,
   "id": "e8e9b5d2-390f-4397-87b6-90ca408f84d3",
   "metadata": {
    "tags": []
   },
   "outputs": [],
   "source": [
    "from torch.utils.data import TensorDataset, DataLoader\n",
    "from tqdm import tqdm"
   ]
  },
  {
   "cell_type": "code",
   "execution_count": 3,
   "id": "0a432df8-fcfc-4529-92fd-66e7d1175a12",
   "metadata": {
    "tags": []
   },
   "outputs": [
    {
     "name": "stdout",
     "output_type": "stream",
     "text": [
      "Using device: cpu\n"
     ]
    }
   ],
   "source": [
    "device = torch.device('cuda' if torch.cuda.is_available() else 'cpu')\n",
    "print('Using device:', device)"
   ]
  },
  {
   "cell_type": "code",
   "execution_count": 4,
   "id": "8de8bc78-3890-4d0e-bdcf-6e293ff1dfe5",
   "metadata": {
    "tags": []
   },
   "outputs": [],
   "source": [
    "train_fh = open('C:\\\\Users\\\\809210\\\\Downloads\\\\lego-train.pickle', 'rb')\n",
    "test_fh = open('C:\\\\Users\\\\809210\\\\Downloads\\\\lego-test.pickle', 'rb')\n",
    "\n",
    "train_data = pickle.load(train_fh)\n",
    "test_data = pickle.load(test_fh)"
   ]
  },
  {
   "cell_type": "code",
   "execution_count": 5,
   "id": "36bec74e-cb48-43ac-bd79-b80bcd8c11f1",
   "metadata": {
    "tags": []
   },
   "outputs": [
    {
     "name": "stderr",
     "output_type": "stream",
     "text": [
      "C:\\Users\\809210\\AppData\\Local\\Temp\\ipykernel_13976\\3594128272.py:8: UserWarning: Creating a tensor from a list of numpy.ndarrays is extremely slow. Please consider converting the list to a single numpy.ndarray with numpy.array() before converting to a tensor. (Triggered internally at C:\\actions-runner\\_work\\pytorch\\pytorch\\builder\\windows\\pytorch\\torch\\csrc\\utils\\tensor_new.cpp:264.)\n",
      "  tensor_x = torch.Tensor(X)\n"
     ]
    }
   ],
   "source": [
    "train_data_X = [x[0] for x in train_data]\n",
    "train_data_y = [y[1] for y in train_data]\n",
    "test_data_X = [x[0] for x in test_data]\n",
    "test_data_y = [y[1] for y in test_data]\n",
    "\n",
    "\n",
    "def get_dataset(X, y):\n",
    "    tensor_x = torch.Tensor(X)\n",
    "    tensor_y = torch.Tensor(y).long()\n",
    "\n",
    "    dataset = TensorDataset(tensor_x, tensor_y)\n",
    "    return dataset\n",
    "\n",
    "\n",
    "train_dataset = get_dataset(train_data_X, train_data_y)\n",
    "test_dataset = get_dataset(test_data_X, test_data_y)"
   ]
  },
  {
   "cell_type": "code",
   "execution_count": 6,
   "id": "acfb2226-761e-4bf2-bc13-375c719e0337",
   "metadata": {
    "tags": []
   },
   "outputs": [],
   "source": [
    "class_names = ['2x3 Brick', '2x2 Brick', '1x3 Brick', '2x1 Brick', '1x1 Brick', '2x2 Macaroni', '2x2 Curved End', 'Cog 16 Tooth', '1x2 Handles', '1x2 Grill']"
   ]
  },
  {
   "cell_type": "code",
   "execution_count": 7,
   "id": "11bb7ff9-599e-48f6-a58d-1cdf01eb2ddc",
   "metadata": {
    "tags": []
   },
   "outputs": [
    {
     "data": {
      "image/png": "[encoded data removed]",
      "text/plain": [
       "<Figure size 640x480 with 2 Axes>"
      ]
     },
     "metadata": {},
     "output_type": "display_data"
    }
   ],
   "source": [
    "train_dataloader = DataLoader(train_dataset)\n",
    "images_data, label_data = next(iter(train_dataloader))\n",
    "plt.figure()\n",
    "plt.imshow(images_data[0].numpy())\n",
    "plt.colorbar()\n",
    "plt.xlabel(class_names[label_data])\n",
    "plt.show()"
   ]
  },
  {
   "cell_type": "markdown",
   "id": "76792c77-a98c-4552-bfc9-5283406c701f",
   "metadata": {
    "tags": []
   },
   "source": [
    "# NN"
   ]
  },
  {
   "cell_type": "code",
   "execution_count": 8,
   "id": "432d2517-7bc0-4a81-b622-dc1f927ed652",
   "metadata": {
    "tags": []
   },
   "outputs": [],
   "source": [
    "def init_weights(m):\n",
    "    if isinstance(m, nn.Linear):\n",
    "        nn.init.xavier_uniform_(m.weight)\n",
    "        m.bias.data.fill_(0.01)\n",
    "\n",
    "\n",
    "def build_NN():\n",
    "    net = nn.Sequential(\n",
    "        nn.Flatten(),\n",
    "        nn.Linear(48*48, 576),\n",
    "        nn.Sigmoid(),\n",
    "        nn.Linear(576, 144),\n",
    "        nn.Sigmoid(),\n",
    "        nn.Linear(144, 36),\n",
    "        nn.Sigmoid(),\n",
    "        nn.Linear(36, 10)\n",
    "    )\n",
    "\n",
    "    net.apply(init_weights)\n",
    "\n",
    "    return net"
   ]
  },
  {
   "cell_type": "code",
   "execution_count": 9,
   "id": "667c5b24-1b67-4c55-896d-c890195042f4",
   "metadata": {
    "tags": []
   },
   "outputs": [],
   "source": [
    "def train(net, train_loader, device, num_epochs, learning_rate):\n",
    "    optimizer = optim.SGD(net.parameters(), lr=learning_rate, momentum=0.9)\n",
    "\n",
    "    loss_function = nn.CrossEntropyLoss()\n",
    "    acc_history = []\n",
    "\n",
    "    with tqdm(total=len(train_loader)*num_epochs, position=0, leave=True) as pbar:\n",
    "\n",
    "        for epoch in range(num_epochs):\n",
    "            running_loss = 0.0\n",
    "            correct = 0\n",
    "            total = 0\n",
    "\n",
    "            for batch_num, (inputs, labels) in enumerate(train_loader):\n",
    "                # Possibly copy inputs and labels to the GPU\n",
    "                inputs = inputs.permute(0, 3, 1, 2).to(device)\n",
    "                labels = labels.to(device)\n",
    "\n",
    "                optimizer.zero_grad()\n",
    "\n",
    "                outputs = net(inputs)\n",
    "                loss = loss_function(outputs, labels)\n",
    "\n",
    "                loss.backward()\n",
    "                optimizer.step()\n",
    "\n",
    "                # Print progress\n",
    "                running_loss += loss.item()\n",
    "\n",
    "                _, predicted = outputs.max(1)\n",
    "                batch_total = labels.size(0)\n",
    "                batch_correct = predicted.eq(labels).sum().item()\n",
    "                batch_acc = batch_correct/batch_total\n",
    "\n",
    "                pbar.set_description(\"Epoch: %d, Batch: %2d, Loss: %.2f, Acc: %.2f\" % (epoch, batch_num, running_loss, batch_acc))\n",
    "                pbar.update()\n",
    "\n",
    "                total += batch_total\n",
    "                correct += batch_correct\n",
    "            acc = correct/total\n",
    "\n",
    "            acc_history.append(acc)\n",
    "\n",
    "        pbar.close()\n",
    "\n",
    "    return acc_history"
   ]
  },
  {
   "cell_type": "code",
   "execution_count": 10,
   "id": "788ba7b7-878f-4c04-9900-120cb65973c5",
   "metadata": {
    "tags": []
   },
   "outputs": [],
   "source": [
    "def print_history(history, title):\n",
    "    plt.figure(figsize=(7, 4))\n",
    "    plt.plot(history)\n",
    "    plt.title(title)\n",
    "    plt.ylabel('Accuracy')\n",
    "    plt.xlabel('Epoch')\n",
    "    plt.show()"
   ]
  },
  {
   "cell_type": "code",
   "execution_count": 11,
   "id": "d60b22f6-d259-4df7-972c-a093b8681bc8",
   "metadata": {
    "tags": []
   },
   "outputs": [],
   "source": [
    "BATCH_SIZE = 24\n",
    "EPOCHS = 30\n",
    "LR = 0.01\n",
    "\n",
    "train_dataloader = DataLoader(train_dataset, batch_size=BATCH_SIZE)"
   ]
  },
  {
   "cell_type": "code",
   "execution_count": 12,
   "id": "e949dd30-8922-43c4-8489-84e7cb3dc56e",
   "metadata": {
    "tags": []
   },
   "outputs": [],
   "source": [
    "net = build_NN()"
   ]
  },
  {
   "cell_type": "code",
   "execution_count": 13,
   "id": "d495ba53-9bf4-4e70-a86c-7a5218f2e0b1",
   "metadata": {
    "tags": []
   },
   "outputs": [
    {
     "name": "stderr",
     "output_type": "stream",
     "text": [
      "Epoch: 29, Batch: 18, Loss: 9.92, Acc: 0.89: 100%|███████████████████████████████████| 570/570 [00:24<00:00, 23.41it/s]\n"
     ]
    }
   ],
   "source": [
    "hist = train(net, train_dataloader, device, EPOCHS, LR)"
   ]
  },
  {
   "cell_type": "code",
   "execution_count": 14,
   "id": "3d220bde-6d9b-4247-b70d-d65b70f9aca9",
   "metadata": {
    "tags": []
   },
   "outputs": [
    {
     "data": {
      "image/png": "[encoded data removed]",
      "text/plain": [
       "<Figure size 700x400 with 1 Axes>"
      ]
     },
     "metadata": {},
     "output_type": "display_data"
    }
   ],
   "source": [
    "print_history(hist, \"NN Model Accuracy\")"
   ]
  },
  {
   "cell_type": "markdown",
   "id": "df0ee16c-14c4-420a-8bfd-8acf9b93383a",
   "metadata": {},
   "source": [
    "# Lenet"
   ]
  },
  {
   "cell_type": "code",
   "execution_count": 15,
   "id": "4338101b-d43e-4683-96f3-a954f69d46c7",
   "metadata": {
    "tags": []
   },
   "outputs": [],
   "source": [
    "def init_weights_2(m):\n",
    "    if type(m) is nn.Linear:\n",
    "        nn.init.xavier_uniform_(m.weight)\n",
    "        m.bias.data.fill_(0.01)\n",
    "    if type(m) is nn.Conv2d:\n",
    "        nn.init.xavier_uniform_(m.weight)\n",
    "# хуже, чем инициализировать только линейный слой?\n",
    "\n",
    "\n",
    "def build_lenet():\n",
    "    net = nn.Sequential(\n",
    "        # Input: 48x48\n",
    "\n",
    "        nn.Conv2d(1, 6, 5, padding=(2, 2)),  # out: 48x48x6\n",
    "        nn.ReLU(),\n",
    "\n",
    "        nn.AvgPool2d(kernel_size=(2, 2), stride=(2, 2)),  # out: 24x24x6\n",
    "        nn.ReLU(),\n",
    "\n",
    "        nn.Conv2d(6, 16, 5),  # out: 20x20x16\n",
    "        nn.ReLU(),\n",
    "\n",
    "        nn.AvgPool2d(kernel_size=(2, 2), stride=(2, 2)),  # out: 10x10x16\n",
    "\n",
    "        nn.Flatten(),\n",
    "\n",
    "        nn.Linear(10*10*16, 400),\n",
    "        nn.ReLU(),\n",
    "        nn.Linear(400, 100),\n",
    "        nn.ReLU(),\n",
    "        nn.Linear(100, 40),\n",
    "        nn.ReLU(),\n",
    "        nn.Linear(40, 10),\n",
    "    )\n",
    "\n",
    "    net.apply(init_weights_2)\n",
    "    return net"
   ]
  },
  {
   "cell_type": "code",
   "execution_count": 16,
   "id": "a84f88c8-368e-4583-b92b-fb705422c993",
   "metadata": {
    "tags": []
   },
   "outputs": [],
   "source": [
    "lenet = build_lenet()"
   ]
  },
  {
   "cell_type": "code",
   "execution_count": 17,
   "id": "f5ad12e1-55d2-4127-8b2b-39825fb90350",
   "metadata": {
    "tags": []
   },
   "outputs": [
    {
     "name": "stderr",
     "output_type": "stream",
     "text": [
      "Epoch: 19, Batch: 18, Loss: 0.09, Acc: 1.00: 100%|███████████████████████████████████| 380/380 [00:21<00:00, 18.01it/s]\n"
     ]
    }
   ],
   "source": [
    "BATCH_SIZE = 24\n",
    "EPOCHS = 20\n",
    "LR = 0.001\n",
    "\n",
    "train_dataloader = DataLoader(train_dataset, batch_size=BATCH_SIZE)\n",
    "\n",
    "hist_lenet = train(lenet, train_dataloader, device, EPOCHS, LR)"
   ]
  },
  {
   "cell_type": "code",
   "execution_count": 18,
   "id": "2d91b61e-6628-4970-9f17-e37927320ee3",
   "metadata": {
    "tags": []
   },
   "outputs": [
    {
     "data": {
      "image/png": "[encoded data removed]",
      "text/plain": [
       "<Figure size 700x400 with 1 Axes>"
      ]
     },
     "metadata": {},
     "output_type": "display_data"
    }
   ],
   "source": [
    "print_history(hist_lenet, \"LeNet Model Accuracy\")"
   ]
  },
  {
   "cell_type": "markdown",
   "id": "0f0d8608-2958-4dd4-a11b-f18bcd40550c",
   "metadata": {
    "tags": []
   },
   "source": [
    "# Alexnet"
   ]
  },
  {
   "cell_type": "code",
   "execution_count": 19,
   "id": "7e166009-de46-44b4-ac17-004eb0fe379e",
   "metadata": {
    "tags": []
   },
   "outputs": [],
   "source": [
    "def build_alexnet():\n",
    "    net = nn.Sequential(\n",
    "        # Input: 48x48\n",
    "\n",
    "        nn.Conv2d(1, 24, 4, padding=(2, 2)),  # out: 48x48x24\n",
    "        nn.ReLU(),\n",
    "\n",
    "        nn.MaxPool2d(kernel_size=(3, 3), stride=(2, 2)),  # out: 23x23x24\n",
    "        nn.Conv2d(24, 128, 5, padding=(2, 2)),  # out: 23x23x128\n",
    "        nn.ReLU(),\n",
    "\n",
    "        nn.MaxPool2d(kernel_size=(3, 3), stride=(2, 2)),  # out: 11x11x128\n",
    "        nn.Conv2d(128, 256, 3, padding=(1, 1)),  # out: 11x11x256\n",
    "        nn.ReLU(),\n",
    "\n",
    "        nn.Conv2d(256, 256, 3, padding=(1, 1)),  # out: 11x11x256\n",
    "        nn.ReLU(),\n",
    "\n",
    "        nn.Conv2d(256, 128, 3, padding=(1, 1)),  # out: 11x11x128\n",
    "        nn.ReLU(),\n",
    "\n",
    "        nn.MaxPool2d(kernel_size=(3, 3), stride=(2, 2)),  # out: 5x5x128\n",
    "\n",
    "        nn.Flatten(),\n",
    "\n",
    "        nn.Linear(5*5*128, 1024),\n",
    "        nn.ReLU(),\n",
    "        nn.Dropout(p=0.33),\n",
    "\n",
    "        nn.Linear(1024, 256),\n",
    "        nn.ReLU(),\n",
    "        nn.Dropout(p=0.33),\n",
    "\n",
    "        nn.Linear(256, 10),\n",
    "    )\n",
    "\n",
    "    net.apply(init_weights_2)\n",
    "    return net"
   ]
  },
  {
   "cell_type": "code",
   "execution_count": 20,
   "id": "4966baf7-8afa-41f5-8dea-674c70b59cf4",
   "metadata": {
    "tags": []
   },
   "outputs": [],
   "source": [
    "alexnet = build_alexnet()"
   ]
  },
  {
   "cell_type": "code",
   "execution_count": 21,
   "id": "407b2fd9-2da5-4581-9254-72cee143c057",
   "metadata": {
    "tags": []
   },
   "outputs": [],
   "source": [
    "BATCH_SIZE = 20\n",
    "EPOCHS = 20\n",
    "LR = 0.001\n",
    "\n",
    "train_dataloader = DataLoader(train_dataset, batch_size=BATCH_SIZE)"
   ]
  },
  {
   "cell_type": "code",
   "execution_count": 22,
   "id": "ea7369b9-e834-425d-8385-8d6a758c0635",
   "metadata": {
    "tags": []
   },
   "outputs": [
    {
     "name": "stderr",
     "output_type": "stream",
     "text": [
      "Epoch: 19, Batch: 22, Loss: 2.62, Acc: 1.00: 100%|███████████████████████████████████| 460/460 [05:35<00:00,  1.37it/s]\n"
     ]
    }
   ],
   "source": [
    "hist_alexnet = train(alexnet, train_dataloader, device, EPOCHS, LR)"
   ]
  },
  {
   "cell_type": "code",
   "execution_count": 23,
   "id": "f2d18434-18f6-4174-a162-d36e077cdcdd",
   "metadata": {
    "tags": []
   },
   "outputs": [
    {
     "data": {
      "image/png": "[encoded data removed]",
      "text/plain": [
       "<Figure size 700x400 with 1 Axes>"
      ]
     },
     "metadata": {},
     "output_type": "display_data"
    }
   ],
   "source": [
    "print_history(hist_alexnet, \"AlexNet Model Accuracy\")"
   ]
  },
  {
   "cell_type": "markdown",
   "id": "86f9de5d-99ed-4434-8b4e-5d88da69d1d2",
   "metadata": {},
   "source": [
    "# Accuracy"
   ]
  },
  {
   "cell_type": "code",
   "execution_count": 24,
   "id": "62665122-ddb6-4daa-a64b-44cfab77702d",
   "metadata": {
    "tags": []
   },
   "outputs": [],
   "source": [
    "def evaluate_acc(net, test_loader, device):\n",
    "\n",
    "    total = 0\n",
    "    correct = 0\n",
    "\n",
    "    for batch_num, (inputs, labels) in enumerate(test_loader):\n",
    "        # Possibly copy inputs and labels to the GPU\n",
    "        inputs = inputs.permute(0, 3, 1, 2).to(device)\n",
    "        labels = labels.to(device)\n",
    "\n",
    "        outputs = net(inputs)\n",
    "        _, predicted = outputs.max(1)\n",
    "\n",
    "        total += labels.size(0)\n",
    "        correct += predicted.eq(labels).sum().item()\n",
    "\n",
    "    acc = correct/total\n",
    "    return acc"
   ]
  },
  {
   "cell_type": "code",
   "execution_count": 25,
   "id": "7313a903-d76e-41d0-8d50-ac8bb94aba53",
   "metadata": {
    "tags": []
   },
   "outputs": [],
   "source": [
    "test_dataloader = DataLoader(test_dataset, batch_size=BATCH_SIZE)"
   ]
  },
  {
   "cell_type": "code",
   "execution_count": 26,
   "id": "9e29a314-1598-4784-8c15-9e4ab122f82f",
   "metadata": {
    "tags": []
   },
   "outputs": [
    {
     "name": "stdout",
     "output_type": "stream",
     "text": [
      "Test Accuracy (NN): 0.98\n",
      "Test Accuracy (LeNet): 1.0\n",
      "Test Accuracy (AlexNet): 0.99\n"
     ]
    }
   ],
   "source": [
    "net_acc = evaluate_acc(net, test_dataloader, device)\n",
    "lenet_acc = evaluate_acc(lenet, test_dataloader, device)\n",
    "alexnet_acc = evaluate_acc(alexnet, test_dataloader, device)\n",
    "\n",
    "print(f\"Test Accuracy (NN): {net_acc:.2}\")\n",
    "print(f\"Test Accuracy (LeNet): {lenet_acc:.2}\")\n",
    "print(f\"Test Accuracy (AlexNet): {alexnet_acc:.2}\")"
   ]
  },
  {
   "cell_type": "code",
   "execution_count": 27,
   "id": "029ff6a7-42c5-4165-ad55-d9d1887ce336",
   "metadata": {
    "tags": []
   },
   "outputs": [],
   "source": [
    "def show_random(net, dataloader):\n",
    "    def get_prediction(net, input):\n",
    "        input = input.permute(2, 0, 1).to(device)\n",
    "        outputs = net(input)\n",
    "        _, predicted = outputs.max(1)\n",
    "        return predicted\n",
    "\n",
    "    images_data, original_label = next(iter(dataloader))\n",
    "    images_data = images_data[0]\n",
    "    original_label = original_label[0]\n",
    "\n",
    "    predicted_label = get_prediction(net, images_data)\n",
    "    print('original_label ', original_label)\n",
    "    print('predicted_label ', predicted_label)\n",
    "    if original_label == predicted_label:\n",
    "        color = 'green'\n",
    "    else:\n",
    "        color = 'red'\n",
    "\n",
    "    plt.figure()\n",
    "    plt.imshow(images_data.numpy())\n",
    "    plt.colorbar()\n",
    "\n",
    "    plt.xlabel(class_names[predicted_label], color=color)\n",
    "    plt.show()"
   ]
  },
  {
   "cell_type": "code",
   "execution_count": 28,
   "id": "72d6d96d-aa5c-4306-a082-a62441ad4515",
   "metadata": {
    "tags": []
   },
   "outputs": [
    {
     "name": "stdout",
     "output_type": "stream",
     "text": [
      "original_label  tensor(4)\n",
      "predicted_label  tensor([4])\n"
     ]
    },
    {
     "data": {
      "image/png": "[encoded data removed]",
      "text/plain": [
       "<Figure size 640x480 with 2 Axes>"
      ]
     },
     "metadata": {},
     "output_type": "display_data"
    }
   ],
   "source": [
    "show_random(net, test_dataloader)\n"
   ]
  }
 ],
 "metadata": {
  "kernelspec": {
   "display_name": "Python 3 (ipykernel)",
   "language": "python",
   "name": "python3"
  },
  "language_info": {
   "codemirror_mode": {
    "name": "ipython",
    "version": 3
   },
   "file_extension": ".py",
   "mimetype": "text/x-python",
   "name": "python",
   "nbconvert_exporter": "python",
   "pygments_lexer": "ipython3",
   "version": "3.9.6"
  }
 },
 "nbformat": 4,
 "nbformat_minor": 5
}
